{
 "cells": [
  {
   "cell_type": "code",
   "execution_count": null,
   "metadata": {
    "collapsed": true
   },
   "outputs": [],
   "source": [
    "# Import dependencies\n",
    "import pandas as pd\n",
    "import numpy as np\n",
    "import sklearn\n",
    "import sklearn.datasets"
   ]
  },
  {
   "cell_type": "markdown",
   "metadata": {},
   "source": [
    "### Prepare Data"
   ]
  },
  {
   "cell_type": "code",
   "execution_count": null,
   "metadata": {
    "collapsed": true
   },
   "outputs": [],
   "source": [
    "# Read in the data and set up the input and output\n",
    "diagnosis_30_df = pd.read_csv('data/diagnosis.csv')\n",
    "\n",
    "X = diagnosis_df\n",
    "y = diagnosis_df['Diagnosis'].map({'M': 1, 'B': 0})"
   ]
  },
  {
   "cell_type": "code",
   "execution_count": null,
   "metadata": {
    "collapsed": true
   },
   "outputs": [],
   "source": [
    "# Split test, train, and demo\n",
    "from sklearn.model_selection import train_test_split\n",
    "\n",
    "X_use, demo_input, y_use, y_demo = train_test_split(X, y, random_state=2, test_size=0.02)\n",
    "X_train, X_test, y_train, y_test = train_test_split(X_use, y_use, random_state=3)"
   ]
  },
  {
   "cell_type": "code",
   "execution_count": null,
   "metadata": {
    "collapsed": true
   },
   "outputs": [],
   "source": [
    "# Save a copy of the demo input data as csv and as X_demo\n",
    "demo_input.drop('Diagnosis', axis=1).to_csv('data/demo_input.csv', index=False)\n",
    "X_demo = demo_input"
   ]
  },
  {
   "cell_type": "code",
   "execution_count": null,
   "metadata": {
    "collapsed": true
   },
   "outputs": [],
   "source": [
    "# Drop irrelevant columns from X sets\n",
    "for dataframe in [X_train, X_test, X_demo]:\n",
    "    dataframe.drop(['ID number', 'Diagnosis'], axis=1, inplace=True)"
   ]
  },
  {
   "cell_type": "code",
   "execution_count": null,
   "metadata": {
    "collapsed": true
   },
   "outputs": [],
   "source": [
    "# Save X_train to csv in order to scale demo data in app\n",
    "X_train.to_csv('data/X_train.csv', index=False)"
   ]
  },
  {
   "cell_type": "code",
   "execution_count": null,
   "metadata": {
    "collapsed": true
   },
   "outputs": [],
   "source": [
    "# Scale X\n",
    "from sklearn.preprocessing import StandardScaler\n",
    "X_scaler = StandardScaler().fit(X_train)\n",
    "\n",
    "X_train_scaled = X_scaler.transform(X_train)\n",
    "X_test_scaled = X_scaler.transform(X_test)\n",
    "X_demo_scaled = X_scaler.transform(X_demo)"
   ]
  },
  {
   "cell_type": "code",
   "execution_count": null,
   "metadata": {
    "collapsed": true
   },
   "outputs": [],
   "source": [
    "# Convert y to categorical\n",
    "from keras.utils import to_categorical\n",
    "\n",
    "y_train_categorical = to_categorical(y_train)\n",
    "y_test_categorical = to_categorical(y_test)\n",
    "y_demo_categorical = to_categorical(y_demo)"
   ]
  },
  {
   "cell_type": "markdown",
   "metadata": {},
   "source": [
    "### Train Model"
   ]
  },
  {
   "cell_type": "code",
   "execution_count": null,
   "metadata": {},
   "outputs": [],
   "source": [
    "# Create deep neural network model\n",
    "# Use 3 layers, 6 nodes each\n",
    "from keras.models import Sequential\n",
    "from keras.layers import Dense\n",
    "\n",
    "deep_model = Sequential()\n",
    "deep_model.add(Dense(units=6, activation='relu', input_dim=20))\n",
    "deep_model.add(Dense(units=6, activation='relu'))\n",
    "deep_model.add(Dense(units=2, activation='softmax'))\n",
    "deep_model.summary()"
   ]
  },
  {
   "cell_type": "code",
   "execution_count": null,
   "metadata": {},
   "outputs": [],
   "source": [
    "# Fit model to training data\n",
    "deep_model.compile(optimizer='adam',\n",
    "                   loss='categorical_crossentropy',\n",
    "                   metrics=['accuracy'])\n",
    "\n",
    "deep_model.fit(\n",
    "    X_train_scaled,\n",
    "    y_train_categorical,\n",
    "    epochs=1000,\n",
    "    shuffle=True,\n",
    "    verbose=2\n",
    ")"
   ]
  },
  {
   "cell_type": "code",
   "execution_count": null,
   "metadata": {},
   "outputs": [],
   "source": [
    "# Test test data with deep model\n",
    "model_loss, model_accuracy = deep_model.evaluate(\n",
    "    X_test_scaled, y_test_categorical, verbose=2)\n",
    "print(f\"Deep Neural Network - Loss: {model_loss}, Accuracy: {model_accuracy}\")"
   ]
  },
  {
   "cell_type": "code",
   "execution_count": null,
   "metadata": {},
   "outputs": [],
   "source": [
    "# Test demo data with deep model\n",
    "model_loss, model_accuracy = deep_model.evaluate(\n",
    "    X_demo_scaled, y_demo_categorical, verbose=2)\n",
    "print(f\"Deep Neural Network - Loss: {model_loss}, Accuracy: {model_accuracy}\")"
   ]
  },
  {
   "cell_type": "code",
   "execution_count": null,
   "metadata": {
    "collapsed": true
   },
   "outputs": [],
   "source": [
    "# Save model to use in demo\n",
    "deep_model.save('models/')"
   ]
  },
  {
   "cell_type": "code",
   "execution_count": null,
   "metadata": {
    "collapsed": true
   },
   "outputs": [],
   "source": [
    "# Load model, test to make sure it works\n",
    "from keras.models import load_model\n",
    "loaded_model = load_model('models/diagnosis_model_9856.h5')\n",
    "\n",
    "model_loss, model_accuracy = loaded_model.evaluate(\n",
    "    X_test_scaled, y_test_categorical, verbose=2)\n",
    "print(f\"Deep Neural Network - Loss: {model_loss}, Accuracy: {model_accuracy}\")"
   ]
  },
  {
   "cell_type": "code",
   "execution_count": null,
   "metadata": {
    "collapsed": true
   },
   "outputs": [],
   "source": []
  },
  {
   "cell_type": "code",
   "execution_count": null,
   "metadata": {
    "collapsed": true
   },
   "outputs": [],
   "source": []
  },
  {
   "cell_type": "code",
   "execution_count": null,
   "metadata": {
    "collapsed": true
   },
   "outputs": [],
   "source": []
  },
  {
   "cell_type": "code",
   "execution_count": null,
   "metadata": {
    "collapsed": true
   },
   "outputs": [],
   "source": [
    "# Trimmed data\n",
    "# Read in the data and set up the input and output\n",
    "diagnosis_df = pd.read_csv('feature selection/selected_diagnosis_Correlation.csv')\n",
    "\n",
    "X = diagnosis_df\n",
    "y = diagnosis_df['Diagnosis'].map({'M': 1, 'B': 0})"
   ]
  },
  {
   "cell_type": "code",
   "execution_count": null,
   "metadata": {},
   "outputs": [],
   "source": [
    "# Split test, train, and demo\n",
    "from sklearn.model_selection import train_test_split\n",
    "\n",
    "X_use, demo_input, y_use, y_demo = train_test_split(X, y, random_state=2, test_size=0.02)\n",
    "X_train, X_test, y_train, y_test = train_test_split(X_use, y_use, random_state=3)\n",
    "\n",
    "# Save a copy of the demo input data as csv and as X_demo\n",
    "demo_input.drop('Diagnosis', axis=1).to_csv('data/demo_input_20.csv', index=False)\n",
    "X_demo = demo_input\n",
    "\n",
    "# Drop irrelevant columns from X sets\n",
    "for dataframe in [X_train, X_test, X_demo]:\n",
    "    dataframe.drop('Diagnosis', axis=1, inplace=True)\n",
    "    \n",
    "# Save X_train to csv in order to scale demo data in app\n",
    "X_train.to_csv('data/X_train.csv_20', index=False)\n",
    "\n",
    "# Scale X\n",
    "from sklearn.preprocessing import StandardScaler\n",
    "X_scaler = StandardScaler().fit(X_train)\n",
    "\n",
    "X_train_scaled = X_scaler.transform(X_train)\n",
    "X_test_scaled = X_scaler.transform(X_test)\n",
    "X_demo_scaled = X_scaler.transform(X_demo)\n",
    "\n",
    "# Convert y to categorical\n",
    "from keras.utils import to_categorical\n",
    "\n",
    "y_train_categorical = to_categorical(y_train)\n",
    "y_test_categorical = to_categorical(y_test)\n",
    "y_demo_categorical = to_categorical(y_demo)"
   ]
  },
  {
   "cell_type": "code",
   "execution_count": null,
   "metadata": {
    "collapsed": true
   },
   "outputs": [],
   "source": []
  }
 ],
 "metadata": {
  "kernelspec": {
   "display_name": "Python 3",
   "language": "python",
   "name": "python3"
  },
  "language_info": {
   "codemirror_mode": {
    "name": "ipython",
    "version": 3
   },
   "file_extension": ".py",
   "mimetype": "text/x-python",
   "name": "python",
   "nbconvert_exporter": "python",
   "pygments_lexer": "ipython3",
   "version": "3.6.3"
  }
 },
 "nbformat": 4,
 "nbformat_minor": 2
}
