{
 "cells": [
  {
   "cell_type": "code",
   "execution_count": 1,
   "metadata": {},
   "outputs": [],
   "source": [
    "# Import dependencies\n",
    "import pandas as pd\n",
    "import numpy as np\n",
    "import sklearn\n",
    "import sklearn.datasets\n",
    "\n",
    "import matplotlib.pyplot as plt\n",
    "from matplotlib.colors import Normalize"
   ]
  },
  {
   "cell_type": "markdown",
   "metadata": {},
   "source": [
    "### Setup"
   ]
  },
  {
   "cell_type": "code",
   "execution_count": 2,
   "metadata": {},
   "outputs": [],
   "source": [
    "# Read in the data and set up the input and output\n",
    "diagnosis_df = pd.read_csv('data/diagnosis.csv')\n",
    "\n",
    "X = diagnosis_df.drop(['ID number', 'Diagnosis'], axis=1)\n",
    "y = diagnosis_df['Diagnosis'].map({'M': 1, 'B': 0})"
   ]
  },
  {
   "cell_type": "code",
   "execution_count": 3,
   "metadata": {},
   "outputs": [],
   "source": [
    "# Split test, train, and demo\n",
    "from sklearn.model_selection import train_test_split\n",
    "\n",
    "X_use, X_demo, y_use, y_demo = train_test_split(X, y, random_state=1, test_size=0.02)\n",
    "X_train, X_test, y_train, y_test = train_test_split(X_use, y_use, random_state=1)"
   ]
  },
  {
   "cell_type": "code",
   "execution_count": 4,
   "metadata": {},
   "outputs": [
    {
     "name": "stdout",
     "output_type": "stream",
     "text": [
      "417\n",
      "139\n",
      "12\n"
     ]
    }
   ],
   "source": [
    "print(len(X_train))\n",
    "print(len(X_test))\n",
    "print(len(X_demo))"
   ]
  },
  {
   "cell_type": "code",
   "execution_count": 5,
   "metadata": {},
   "outputs": [],
   "source": [
    "# Scale X\n",
    "from sklearn.preprocessing import StandardScaler\n",
    "X_scaler = StandardScaler().fit(X_train)\n",
    "\n",
    "X_train_scaled = X_scaler.transform(X_train)\n",
    "X_test_scaled = X_scaler.transform(X_test)"
   ]
  },
  {
   "cell_type": "markdown",
   "metadata": {},
   "source": [
    "### SVM"
   ]
  },
  {
   "cell_type": "code",
   "execution_count": 6,
   "metadata": {},
   "outputs": [],
   "source": [
    "# Create model\n",
    "from sklearn.svm import SVC\n",
    "model = SVC(kernel='linear')"
   ]
  },
  {
   "cell_type": "code",
   "execution_count": 17,
   "metadata": {},
   "outputs": [],
   "source": [
    "# Initialize GridSearch\n",
    "from sklearn.model_selection import GridSearchCV\n",
    "\n",
    "# Set up C and gamma values\n",
    "c_range = np.logspace(-3, 3, 7)\n",
    "gamma_range = np.logspace(-10, -3, 7)\n",
    "param_grid = {'C': c_range, 'gamma': gamma_range}\n",
    "grid = GridSearchCV(model, param_grid, verbose=3)"
   ]
  },
  {
   "cell_type": "code",
   "execution_count": 18,
   "metadata": {},
   "outputs": [
    {
     "name": "stdout",
     "output_type": "stream",
     "text": [
      "Fitting 3 folds for each of 49 candidates, totalling 147 fits\n",
      "[CV] C=0.001, gamma=1e-10 ............................................\n",
      "[CV] ... C=0.001, gamma=1e-10, score=0.9496402877697842, total=   0.0s\n",
      "[CV] C=0.001, gamma=1e-10 ............................................\n",
      "[CV] .... C=0.001, gamma=1e-10, score=0.935251798561151, total=   0.0s\n",
      "[CV] C=0.001, gamma=1e-10 ............................................\n",
      "[CV] ... C=0.001, gamma=1e-10, score=0.9424460431654677, total=   0.0s\n",
      "[CV] C=0.001, gamma=1.4677992676220676e-09 ...........................\n",
      "[CV]  C=0.001, gamma=1.4677992676220676e-09, score=0.9496402877697842, total=   0.0s\n",
      "[CV] C=0.001, gamma=1.4677992676220676e-09 ...........................\n",
      "[CV]  C=0.001, gamma=1.4677992676220676e-09, score=0.935251798561151, total=   0.0s\n",
      "[CV] C=0.001, gamma=1.4677992676220676e-09 ...........................\n",
      "[CV]  C=0.001, gamma=1.4677992676220676e-09, score=0.9424460431654677, total=   0.0s\n",
      "[CV] C=0.001, gamma=2.1544346900318866e-08 ...........................\n",
      "[CV]  C=0.001, gamma=2.1544346900318866e-08, score=0.9496402877697842, total=   0.0s\n",
      "[CV] C=0.001, gamma=2.1544346900318866e-08 ...........................\n",
      "[CV]  C=0.001, gamma=2.1544346900318866e-08, score=0.935251798561151, total=   0.0s\n",
      "[CV] C=0.001, gamma=2.1544346900318866e-08 ...........................\n",
      "[CV]  C=0.001, gamma=2.1544346900318866e-08, score=0.9424460431654677, total=   0.0s\n",
      "[CV] C=0.001, gamma=3.162277660168379e-07 ............................\n",
      "[CV]  C=0.001, gamma=3.162277660168379e-07, score=0.9496402877697842, total=   0.0s\n",
      "[CV] C=0.001, gamma=3.162277660168379e-07 ............................\n",
      "[CV]  C=0.001, gamma=3.162277660168379e-07, score=0.935251798561151, total=   0.0s\n",
      "[CV] C=0.001, gamma=3.162277660168379e-07 ............................\n",
      "[CV]  C=0.001, gamma=3.162277660168379e-07, score=0.9424460431654677, total=   0.0s\n",
      "[CV] C=0.001, gamma=4.641588833612782e-06 ............................\n",
      "[CV]  C=0.001, gamma=4.641588833612782e-06, score=0.9496402877697842, total=   0.0s\n",
      "[CV] C=0.001, gamma=4.641588833612782e-06 ............................\n",
      "[CV]  C=0.001, gamma=4.641588833612782e-06, score=0.935251798561151, total=   0.0s\n",
      "[CV] C=0.001, gamma=4.641588833612782e-06 ............................\n",
      "[CV]  C=0.001, gamma=4.641588833612782e-06, score=0.9424460431654677, total=   0.0s\n",
      "[CV] C=0.001, gamma=6.812920690579622e-05 ............................\n",
      "[CV]  C=0.001, gamma=6.812920690579622e-05, score=0.9496402877697842, total=   0.0s\n",
      "[CV] C=0.001, gamma=6.812920690579622e-05 ............................\n",
      "[CV]  C=0.001, gamma=6.812920690579622e-05, score=0.935251798561151, total=   0.0s\n",
      "[CV] C=0.001, gamma=6.812920690579622e-05 ............................\n",
      "[CV]  C=0.001, gamma=6.812920690579622e-05, score=0.9424460431654677, total=   0.0s\n",
      "[CV] C=0.001, gamma=0.001 ............................................\n",
      "[CV] ... C=0.001, gamma=0.001, score=0.9496402877697842, total=   0.0s\n",
      "[CV] C=0.001, gamma=0.001 ............................................\n",
      "[CV] .... C=0.001, gamma=0.001, score=0.935251798561151, total=   0.0s\n",
      "[CV] C=0.001, gamma=0.001 ............................................\n",
      "[CV] ... C=0.001, gamma=0.001, score=0.9424460431654677, total=   0.0s\n",
      "[CV] C=0.01, gamma=1e-10 .............................................\n",
      "[CV] .... C=0.01, gamma=1e-10, score=0.9568345323741008, total=   0.0s\n",
      "[CV] C=0.01, gamma=1e-10 .............................................\n",
      "[CV] .... C=0.01, gamma=1e-10, score=0.9424460431654677, total=   0.0s\n",
      "[CV] C=0.01, gamma=1e-10 .............................................\n",
      "[CV] .... C=0.01, gamma=1e-10, score=0.9424460431654677, total=   0.0s\n",
      "[CV] C=0.01, gamma=1.4677992676220676e-09 ............................\n",
      "[CV]  C=0.01, gamma=1.4677992676220676e-09, score=0.9568345323741008, total=   0.0s\n",
      "[CV] C=0.01, gamma=1.4677992676220676e-09 ............................\n",
      "[CV]  C=0.01, gamma=1.4677992676220676e-09, score=0.9424460431654677, total=   0.0s\n",
      "[CV] C=0.01, gamma=1.4677992676220676e-09 ............................\n",
      "[CV]  C=0.01, gamma=1.4677992676220676e-09, score=0.9424460431654677, total=   0.0s\n",
      "[CV] C=0.01, gamma=2.1544346900318866e-08 ............................\n",
      "[CV]  C=0.01, gamma=2.1544346900318866e-08, score=0.9568345323741008, total=   0.0s\n",
      "[CV] C=0.01, gamma=2.1544346900318866e-08 ............................\n",
      "[CV]  C=0.01, gamma=2.1544346900318866e-08, score=0.9424460431654677, total=   0.0s\n",
      "[CV] C=0.01, gamma=2.1544346900318866e-08 ............................\n",
      "[CV]  C=0.01, gamma=2.1544346900318866e-08, score=0.9424460431654677, total=   0.0s\n",
      "[CV] C=0.01, gamma=3.162277660168379e-07 .............................\n",
      "[CV]  C=0.01, gamma=3.162277660168379e-07, score=0.9568345323741008, total=   0.0s\n",
      "[CV] C=0.01, gamma=3.162277660168379e-07 .............................\n",
      "[CV]  C=0.01, gamma=3.162277660168379e-07, score=0.9424460431654677, total=   0.0s\n",
      "[CV] C=0.01, gamma=3.162277660168379e-07 .............................\n",
      "[CV]  C=0.01, gamma=3.162277660168379e-07, score=0.9424460431654677, total=   0.0s\n",
      "[CV] C=0.01, gamma=4.641588833612782e-06 .............................\n",
      "[CV]  C=0.01, gamma=4.641588833612782e-06, score=0.9568345323741008, total=   0.0s\n",
      "[CV] C=0.01, gamma=4.641588833612782e-06 .............................\n",
      "[CV]  C=0.01, gamma=4.641588833612782e-06, score=0.9424460431654677, total=   0.0s\n",
      "[CV] C=0.01, gamma=4.641588833612782e-06 .............................\n",
      "[CV]  C=0.01, gamma=4.641588833612782e-06, score=0.9424460431654677, total=   0.0s\n",
      "[CV] C=0.01, gamma=6.812920690579622e-05 .............................\n",
      "[CV]  C=0.01, gamma=6.812920690579622e-05, score=0.9568345323741008, total=   0.0s\n",
      "[CV] C=0.01, gamma=6.812920690579622e-05 .............................\n"
     ]
    },
    {
     "name": "stderr",
     "output_type": "stream",
     "text": [
      "[Parallel(n_jobs=1)]: Done   1 out of   1 | elapsed:    0.0s remaining:    0.0s\n",
      "[Parallel(n_jobs=1)]: Done   2 out of   2 | elapsed:    0.0s remaining:    0.0s\n"
     ]
    },
    {
     "name": "stdout",
     "output_type": "stream",
     "text": [
      "[CV]  C=0.01, gamma=6.812920690579622e-05, score=0.9424460431654677, total=   0.0s\n",
      "[CV] C=0.01, gamma=6.812920690579622e-05 .............................\n",
      "[CV]  C=0.01, gamma=6.812920690579622e-05, score=0.9424460431654677, total=   0.0s\n",
      "[CV] C=0.01, gamma=0.001 .............................................\n",
      "[CV] .... C=0.01, gamma=0.001, score=0.9568345323741008, total=   0.0s\n",
      "[CV] C=0.01, gamma=0.001 .............................................\n",
      "[CV] .... C=0.01, gamma=0.001, score=0.9424460431654677, total=   0.0s\n",
      "[CV] C=0.01, gamma=0.001 .............................................\n",
      "[CV] .... C=0.01, gamma=0.001, score=0.9424460431654677, total=   0.0s\n",
      "[CV] C=0.1, gamma=1e-10 ..............................................\n",
      "[CV] ..... C=0.1, gamma=1e-10, score=0.9640287769784173, total=   0.0s\n",
      "[CV] C=0.1, gamma=1e-10 ..............................................\n",
      "[CV] ..... C=0.1, gamma=1e-10, score=0.9424460431654677, total=   0.0s\n",
      "[CV] C=0.1, gamma=1e-10 ..............................................\n",
      "[CV] ..... C=0.1, gamma=1e-10, score=0.9280575539568345, total=   0.0s\n",
      "[CV] C=0.1, gamma=1.4677992676220676e-09 .............................\n",
      "[CV]  C=0.1, gamma=1.4677992676220676e-09, score=0.9640287769784173, total=   0.0s\n",
      "[CV] C=0.1, gamma=1.4677992676220676e-09 .............................\n",
      "[CV]  C=0.1, gamma=1.4677992676220676e-09, score=0.9424460431654677, total=   0.0s\n",
      "[CV] C=0.1, gamma=1.4677992676220676e-09 .............................\n",
      "[CV]  C=0.1, gamma=1.4677992676220676e-09, score=0.9280575539568345, total=   0.0s\n",
      "[CV] C=0.1, gamma=2.1544346900318866e-08 .............................\n",
      "[CV]  C=0.1, gamma=2.1544346900318866e-08, score=0.9640287769784173, total=   0.0s\n",
      "[CV] C=0.1, gamma=2.1544346900318866e-08 .............................\n",
      "[CV]  C=0.1, gamma=2.1544346900318866e-08, score=0.9424460431654677, total=   0.0s\n",
      "[CV] C=0.1, gamma=2.1544346900318866e-08 .............................\n",
      "[CV]  C=0.1, gamma=2.1544346900318866e-08, score=0.9280575539568345, total=   0.0s\n",
      "[CV] C=0.1, gamma=3.162277660168379e-07 ..............................\n",
      "[CV]  C=0.1, gamma=3.162277660168379e-07, score=0.9640287769784173, total=   0.0s\n",
      "[CV] C=0.1, gamma=3.162277660168379e-07 ..............................\n",
      "[CV]  C=0.1, gamma=3.162277660168379e-07, score=0.9424460431654677, total=   0.0s\n",
      "[CV] C=0.1, gamma=3.162277660168379e-07 ..............................\n",
      "[CV]  C=0.1, gamma=3.162277660168379e-07, score=0.9280575539568345, total=   0.0s\n",
      "[CV] C=0.1, gamma=4.641588833612782e-06 ..............................\n",
      "[CV]  C=0.1, gamma=4.641588833612782e-06, score=0.9640287769784173, total=   0.0s\n",
      "[CV] C=0.1, gamma=4.641588833612782e-06 ..............................\n",
      "[CV]  C=0.1, gamma=4.641588833612782e-06, score=0.9424460431654677, total=   0.0s\n",
      "[CV] C=0.1, gamma=4.641588833612782e-06 ..............................\n",
      "[CV]  C=0.1, gamma=4.641588833612782e-06, score=0.9280575539568345, total=   0.0s\n",
      "[CV] C=0.1, gamma=6.812920690579622e-05 ..............................\n",
      "[CV]  C=0.1, gamma=6.812920690579622e-05, score=0.9640287769784173, total=   0.0s\n",
      "[CV] C=0.1, gamma=6.812920690579622e-05 ..............................\n",
      "[CV]  C=0.1, gamma=6.812920690579622e-05, score=0.9424460431654677, total=   0.0s\n",
      "[CV] C=0.1, gamma=6.812920690579622e-05 ..............................\n",
      "[CV]  C=0.1, gamma=6.812920690579622e-05, score=0.9280575539568345, total=   0.0s\n",
      "[CV] C=0.1, gamma=0.001 ..............................................\n",
      "[CV] ..... C=0.1, gamma=0.001, score=0.9640287769784173, total=   0.0s\n",
      "[CV] C=0.1, gamma=0.001 ..............................................\n",
      "[CV] ..... C=0.1, gamma=0.001, score=0.9424460431654677, total=   0.0s\n",
      "[CV] C=0.1, gamma=0.001 ..............................................\n",
      "[CV] ..... C=0.1, gamma=0.001, score=0.9280575539568345, total=   0.0s\n",
      "[CV] C=1.0, gamma=1e-10 ..............................................\n",
      "[CV] ..... C=1.0, gamma=1e-10, score=0.9640287769784173, total=   0.2s\n",
      "[CV] C=1.0, gamma=1e-10 ..............................................\n",
      "[CV] ..... C=1.0, gamma=1e-10, score=0.9424460431654677, total=   0.4s\n",
      "[CV] C=1.0, gamma=1e-10 ..............................................\n",
      "[CV] ...... C=1.0, gamma=1e-10, score=0.935251798561151, total=   0.3s\n",
      "[CV] C=1.0, gamma=1.4677992676220676e-09 .............................\n",
      "[CV]  C=1.0, gamma=1.4677992676220676e-09, score=0.9640287769784173, total=   0.3s\n",
      "[CV] C=1.0, gamma=1.4677992676220676e-09 .............................\n",
      "[CV]  C=1.0, gamma=1.4677992676220676e-09, score=0.9424460431654677, total=   0.4s\n",
      "[CV] C=1.0, gamma=1.4677992676220676e-09 .............................\n",
      "[CV]  C=1.0, gamma=1.4677992676220676e-09, score=0.935251798561151, total=   0.3s\n",
      "[CV] C=1.0, gamma=2.1544346900318866e-08 .............................\n",
      "[CV]  C=1.0, gamma=2.1544346900318866e-08, score=0.9640287769784173, total=   0.2s\n",
      "[CV] C=1.0, gamma=2.1544346900318866e-08 .............................\n",
      "[CV]  C=1.0, gamma=2.1544346900318866e-08, score=0.9424460431654677, total=   0.4s\n",
      "[CV] C=1.0, gamma=2.1544346900318866e-08 .............................\n",
      "[CV]  C=1.0, gamma=2.1544346900318866e-08, score=0.935251798561151, total=   0.3s\n",
      "[CV] C=1.0, gamma=3.162277660168379e-07 ..............................\n",
      "[CV]  C=1.0, gamma=3.162277660168379e-07, score=0.9640287769784173, total=   0.2s\n",
      "[CV] C=1.0, gamma=3.162277660168379e-07 ..............................\n",
      "[CV]  C=1.0, gamma=3.162277660168379e-07, score=0.9424460431654677, total=   0.4s\n",
      "[CV] C=1.0, gamma=3.162277660168379e-07 ..............................\n",
      "[CV]  C=1.0, gamma=3.162277660168379e-07, score=0.935251798561151, total=   0.3s\n",
      "[CV] C=1.0, gamma=4.641588833612782e-06 ..............................\n",
      "[CV]  C=1.0, gamma=4.641588833612782e-06, score=0.9640287769784173, total=   0.2s\n",
      "[CV] C=1.0, gamma=4.641588833612782e-06 ..............................\n",
      "[CV]  C=1.0, gamma=4.641588833612782e-06, score=0.9424460431654677, total=   0.4s\n",
      "[CV] C=1.0, gamma=4.641588833612782e-06 ..............................\n",
      "[CV]  C=1.0, gamma=4.641588833612782e-06, score=0.935251798561151, total=   0.2s\n",
      "[CV] C=1.0, gamma=6.812920690579622e-05 ..............................\n",
      "[CV]  C=1.0, gamma=6.812920690579622e-05, score=0.9640287769784173, total=   0.2s\n",
      "[CV] C=1.0, gamma=6.812920690579622e-05 ..............................\n",
      "[CV]  C=1.0, gamma=6.812920690579622e-05, score=0.9424460431654677, total=   0.4s\n",
      "[CV] C=1.0, gamma=6.812920690579622e-05 ..............................\n",
      "[CV]  C=1.0, gamma=6.812920690579622e-05, score=0.935251798561151, total=   0.2s\n",
      "[CV] C=1.0, gamma=0.001 ..............................................\n",
      "[CV] ..... C=1.0, gamma=0.001, score=0.9640287769784173, total=   0.2s\n",
      "[CV] C=1.0, gamma=0.001 ..............................................\n",
      "[CV] ..... C=1.0, gamma=0.001, score=0.9424460431654677, total=   0.4s\n",
      "[CV] C=1.0, gamma=0.001 ..............................................\n",
      "[CV] ...... C=1.0, gamma=0.001, score=0.935251798561151, total=   0.3s\n",
      "[CV] C=10.0, gamma=1e-10 .............................................\n",
      "[CV] .... C=10.0, gamma=1e-10, score=0.9784172661870504, total=   2.4s\n",
      "[CV] C=10.0, gamma=1e-10 .............................................\n",
      "[CV] .... C=10.0, gamma=1e-10, score=0.9496402877697842, total=   2.3s\n",
      "[CV] C=10.0, gamma=1e-10 .............................................\n",
      "[CV] ..... C=10.0, gamma=1e-10, score=0.935251798561151, total=   1.7s\n",
      "[CV] C=10.0, gamma=1.4677992676220676e-09 ............................\n",
      "[CV]  C=10.0, gamma=1.4677992676220676e-09, score=0.9784172661870504, total=   2.4s\n",
      "[CV] C=10.0, gamma=1.4677992676220676e-09 ............................\n",
      "[CV]  C=10.0, gamma=1.4677992676220676e-09, score=0.9496402877697842, total=   2.4s\n",
      "[CV] C=10.0, gamma=1.4677992676220676e-09 ............................\n",
      "[CV]  C=10.0, gamma=1.4677992676220676e-09, score=0.935251798561151, total=   1.6s\n",
      "[CV] C=10.0, gamma=2.1544346900318866e-08 ............................\n",
      "[CV]  C=10.0, gamma=2.1544346900318866e-08, score=0.9784172661870504, total=   2.3s\n",
      "[CV] C=10.0, gamma=2.1544346900318866e-08 ............................\n",
      "[CV]  C=10.0, gamma=2.1544346900318866e-08, score=0.9496402877697842, total=   2.3s\n",
      "[CV] C=10.0, gamma=2.1544346900318866e-08 ............................\n"
     ]
    },
    {
     "name": "stdout",
     "output_type": "stream",
     "text": [
      "[CV]  C=10.0, gamma=2.1544346900318866e-08, score=0.935251798561151, total=   1.6s\n",
      "[CV] C=10.0, gamma=3.162277660168379e-07 .............................\n",
      "[CV]  C=10.0, gamma=3.162277660168379e-07, score=0.9784172661870504, total=   2.3s\n",
      "[CV] C=10.0, gamma=3.162277660168379e-07 .............................\n",
      "[CV]  C=10.0, gamma=3.162277660168379e-07, score=0.9496402877697842, total=   2.4s\n",
      "[CV] C=10.0, gamma=3.162277660168379e-07 .............................\n",
      "[CV]  C=10.0, gamma=3.162277660168379e-07, score=0.935251798561151, total=   1.7s\n",
      "[CV] C=10.0, gamma=4.641588833612782e-06 .............................\n",
      "[CV]  C=10.0, gamma=4.641588833612782e-06, score=0.9784172661870504, total=   2.4s\n",
      "[CV] C=10.0, gamma=4.641588833612782e-06 .............................\n",
      "[CV]  C=10.0, gamma=4.641588833612782e-06, score=0.9496402877697842, total=   2.3s\n",
      "[CV] C=10.0, gamma=4.641588833612782e-06 .............................\n",
      "[CV]  C=10.0, gamma=4.641588833612782e-06, score=0.935251798561151, total=   1.8s\n",
      "[CV] C=10.0, gamma=6.812920690579622e-05 .............................\n",
      "[CV]  C=10.0, gamma=6.812920690579622e-05, score=0.9784172661870504, total=   2.5s\n",
      "[CV] C=10.0, gamma=6.812920690579622e-05 .............................\n",
      "[CV]  C=10.0, gamma=6.812920690579622e-05, score=0.9496402877697842, total=   2.3s\n",
      "[CV] C=10.0, gamma=6.812920690579622e-05 .............................\n",
      "[CV]  C=10.0, gamma=6.812920690579622e-05, score=0.935251798561151, total=   1.6s\n",
      "[CV] C=10.0, gamma=0.001 .............................................\n",
      "[CV] .... C=10.0, gamma=0.001, score=0.9784172661870504, total=   2.3s\n",
      "[CV] C=10.0, gamma=0.001 .............................................\n",
      "[CV] .... C=10.0, gamma=0.001, score=0.9496402877697842, total=   2.3s\n",
      "[CV] C=10.0, gamma=0.001 .............................................\n",
      "[CV] ..... C=10.0, gamma=0.001, score=0.935251798561151, total=   1.6s\n",
      "[CV] C=100.0, gamma=1e-10 ............................................\n",
      "[CV] ... C=100.0, gamma=1e-10, score=0.9712230215827338, total=   2.9s\n",
      "[CV] C=100.0, gamma=1e-10 ............................................\n",
      "[CV] ... C=100.0, gamma=1e-10, score=0.9496402877697842, total=   4.2s\n",
      "[CV] C=100.0, gamma=1e-10 ............................................\n",
      "[CV] .... C=100.0, gamma=1e-10, score=0.935251798561151, total=   0.8s\n",
      "[CV] C=100.0, gamma=1.4677992676220676e-09 ...........................\n",
      "[CV]  C=100.0, gamma=1.4677992676220676e-09, score=0.9712230215827338, total=   2.9s\n",
      "[CV] C=100.0, gamma=1.4677992676220676e-09 ...........................\n",
      "[CV]  C=100.0, gamma=1.4677992676220676e-09, score=0.9496402877697842, total=   4.5s\n",
      "[CV] C=100.0, gamma=1.4677992676220676e-09 ...........................\n",
      "[CV]  C=100.0, gamma=1.4677992676220676e-09, score=0.935251798561151, total=   0.8s\n",
      "[CV] C=100.0, gamma=2.1544346900318866e-08 ...........................\n",
      "[CV]  C=100.0, gamma=2.1544346900318866e-08, score=0.9712230215827338, total=   2.9s\n",
      "[CV] C=100.0, gamma=2.1544346900318866e-08 ...........................\n",
      "[CV]  C=100.0, gamma=2.1544346900318866e-08, score=0.9496402877697842, total=   4.1s\n",
      "[CV] C=100.0, gamma=2.1544346900318866e-08 ...........................\n",
      "[CV]  C=100.0, gamma=2.1544346900318866e-08, score=0.935251798561151, total=   0.8s\n",
      "[CV] C=100.0, gamma=3.162277660168379e-07 ............................\n",
      "[CV]  C=100.0, gamma=3.162277660168379e-07, score=0.9712230215827338, total=   2.9s\n",
      "[CV] C=100.0, gamma=3.162277660168379e-07 ............................\n",
      "[CV]  C=100.0, gamma=3.162277660168379e-07, score=0.9496402877697842, total=   4.1s\n",
      "[CV] C=100.0, gamma=3.162277660168379e-07 ............................\n",
      "[CV]  C=100.0, gamma=3.162277660168379e-07, score=0.935251798561151, total=   0.8s\n",
      "[CV] C=100.0, gamma=4.641588833612782e-06 ............................\n",
      "[CV]  C=100.0, gamma=4.641588833612782e-06, score=0.9712230215827338, total=   2.9s\n",
      "[CV] C=100.0, gamma=4.641588833612782e-06 ............................\n",
      "[CV]  C=100.0, gamma=4.641588833612782e-06, score=0.9496402877697842, total=   4.1s\n",
      "[CV] C=100.0, gamma=4.641588833612782e-06 ............................\n",
      "[CV]  C=100.0, gamma=4.641588833612782e-06, score=0.935251798561151, total=   0.8s\n",
      "[CV] C=100.0, gamma=6.812920690579622e-05 ............................\n",
      "[CV]  C=100.0, gamma=6.812920690579622e-05, score=0.9712230215827338, total=   3.1s\n",
      "[CV] C=100.0, gamma=6.812920690579622e-05 ............................\n",
      "[CV]  C=100.0, gamma=6.812920690579622e-05, score=0.9496402877697842, total=   4.6s\n",
      "[CV] C=100.0, gamma=6.812920690579622e-05 ............................\n",
      "[CV]  C=100.0, gamma=6.812920690579622e-05, score=0.935251798561151, total=   0.9s\n",
      "[CV] C=100.0, gamma=0.001 ............................................\n",
      "[CV] ... C=100.0, gamma=0.001, score=0.9712230215827338, total=   2.9s\n",
      "[CV] C=100.0, gamma=0.001 ............................................\n",
      "[CV] ... C=100.0, gamma=0.001, score=0.9496402877697842, total=   4.1s\n",
      "[CV] C=100.0, gamma=0.001 ............................................\n",
      "[CV] .... C=100.0, gamma=0.001, score=0.935251798561151, total=   0.8s\n",
      "[CV] C=1000.0, gamma=1e-10 ...........................................\n",
      "[CV] .. C=1000.0, gamma=1e-10, score=0.9712230215827338, total=   4.8s\n",
      "[CV] C=1000.0, gamma=1e-10 ...........................................\n",
      "[CV] .. C=1000.0, gamma=1e-10, score=0.9496402877697842, total=   5.4s\n",
      "[CV] C=1000.0, gamma=1e-10 ...........................................\n",
      "[CV] ... C=1000.0, gamma=1e-10, score=0.935251798561151, total=   2.1s\n",
      "[CV] C=1000.0, gamma=1.4677992676220676e-09 ..........................\n",
      "[CV]  C=1000.0, gamma=1.4677992676220676e-09, score=0.9712230215827338, total=   4.8s\n",
      "[CV] C=1000.0, gamma=1.4677992676220676e-09 ..........................\n",
      "[CV]  C=1000.0, gamma=1.4677992676220676e-09, score=0.9496402877697842, total=   5.4s\n",
      "[CV] C=1000.0, gamma=1.4677992676220676e-09 ..........................\n",
      "[CV]  C=1000.0, gamma=1.4677992676220676e-09, score=0.935251798561151, total=   2.0s\n",
      "[CV] C=1000.0, gamma=2.1544346900318866e-08 ..........................\n",
      "[CV]  C=1000.0, gamma=2.1544346900318866e-08, score=0.9712230215827338, total=   4.9s\n",
      "[CV] C=1000.0, gamma=2.1544346900318866e-08 ..........................\n",
      "[CV]  C=1000.0, gamma=2.1544346900318866e-08, score=0.9496402877697842, total=   5.5s\n",
      "[CV] C=1000.0, gamma=2.1544346900318866e-08 ..........................\n",
      "[CV]  C=1000.0, gamma=2.1544346900318866e-08, score=0.935251798561151, total=   2.1s\n",
      "[CV] C=1000.0, gamma=3.162277660168379e-07 ...........................\n",
      "[CV]  C=1000.0, gamma=3.162277660168379e-07, score=0.9712230215827338, total=   4.8s\n",
      "[CV] C=1000.0, gamma=3.162277660168379e-07 ...........................\n",
      "[CV]  C=1000.0, gamma=3.162277660168379e-07, score=0.9496402877697842, total=   5.5s\n",
      "[CV] C=1000.0, gamma=3.162277660168379e-07 ...........................\n",
      "[CV]  C=1000.0, gamma=3.162277660168379e-07, score=0.935251798561151, total=   2.0s\n",
      "[CV] C=1000.0, gamma=4.641588833612782e-06 ...........................\n",
      "[CV]  C=1000.0, gamma=4.641588833612782e-06, score=0.9712230215827338, total=   4.8s\n",
      "[CV] C=1000.0, gamma=4.641588833612782e-06 ...........................\n",
      "[CV]  C=1000.0, gamma=4.641588833612782e-06, score=0.9496402877697842, total=   5.5s\n",
      "[CV] C=1000.0, gamma=4.641588833612782e-06 ...........................\n",
      "[CV]  C=1000.0, gamma=4.641588833612782e-06, score=0.935251798561151, total=   2.1s\n",
      "[CV] C=1000.0, gamma=6.812920690579622e-05 ...........................\n",
      "[CV]  C=1000.0, gamma=6.812920690579622e-05, score=0.9712230215827338, total=   4.9s\n",
      "[CV] C=1000.0, gamma=6.812920690579622e-05 ...........................\n",
      "[CV]  C=1000.0, gamma=6.812920690579622e-05, score=0.9496402877697842, total=   5.4s\n",
      "[CV] C=1000.0, gamma=6.812920690579622e-05 ...........................\n",
      "[CV]  C=1000.0, gamma=6.812920690579622e-05, score=0.935251798561151, total=   2.1s\n",
      "[CV] C=1000.0, gamma=0.001 ...........................................\n",
      "[CV] .. C=1000.0, gamma=0.001, score=0.9712230215827338, total=   4.8s\n",
      "[CV] C=1000.0, gamma=0.001 ...........................................\n",
      "[CV] .. C=1000.0, gamma=0.001, score=0.9496402877697842, total=   6.2s\n",
      "[CV] C=1000.0, gamma=0.001 ...........................................\n",
      "[CV] ... C=1000.0, gamma=0.001, score=0.935251798561151, total=   2.1s\n"
     ]
    },
    {
     "name": "stderr",
     "output_type": "stream",
     "text": [
      "[Parallel(n_jobs=1)]: Done 147 out of 147 | elapsed:  3.2min finished\n"
     ]
    },
    {
     "data": {
      "text/plain": [
       "GridSearchCV(cv=None, error_score='raise',\n",
       "       estimator=SVC(C=1.0, cache_size=200, class_weight=None, coef0=0.0,\n",
       "  decision_function_shape='ovr', degree=3, gamma='auto', kernel='linear',\n",
       "  max_iter=-1, probability=False, random_state=None, shrinking=True,\n",
       "  tol=0.001, verbose=False),\n",
       "       fit_params=None, iid=True, n_jobs=1,\n",
       "       param_grid={'C': array([1.e-03, 1.e-02, 1.e-01, 1.e+00, 1.e+01, 1.e+02, 1.e+03]), 'gamma': array([1.00000e-10, 1.46780e-09, 2.15443e-08, 3.16228e-07, 4.64159e-06,\n",
       "       6.81292e-05, 1.00000e-03])},\n",
       "       pre_dispatch='2*n_jobs', refit=True, return_train_score='warn',\n",
       "       scoring=None, verbose=3)"
      ]
     },
     "execution_count": 18,
     "metadata": {},
     "output_type": "execute_result"
    }
   ],
   "source": [
    "# Fit model\n",
    "grid.fit(X_train, y_train)"
   ]
  },
  {
   "cell_type": "code",
   "execution_count": 19,
   "metadata": {},
   "outputs": [
    {
     "data": {
      "text/plain": [
       "0.9544364508393285"
      ]
     },
     "execution_count": 19,
     "metadata": {},
     "output_type": "execute_result"
    }
   ],
   "source": [
    "grid.best_score_"
   ]
  },
  {
   "cell_type": "code",
   "execution_count": 20,
   "metadata": {},
   "outputs": [],
   "source": [
    "predictions = grid.predict(X_test)"
   ]
  },
  {
   "cell_type": "code",
   "execution_count": 21,
   "metadata": {},
   "outputs": [
    {
     "name": "stdout",
     "output_type": "stream",
     "text": [
      "             precision    recall  f1-score   support\n",
      "\n",
      "  malignant       0.99      0.93      0.96        87\n",
      "     benign       0.89      0.98      0.94        52\n",
      "\n",
      "avg / total       0.95      0.95      0.95       139\n",
      "\n"
     ]
    }
   ],
   "source": [
    "from sklearn.metrics import classification_report\n",
    "print(classification_report(y_test, predictions,\n",
    "                            target_names=[\"malignant\", \"benign\"]))"
   ]
  },
  {
   "cell_type": "code",
   "execution_count": 28,
   "metadata": {},
   "outputs": [
    {
     "data": {
      "image/png": "[encoded data removed]",
      "text/plain": [
       "<matplotlib.figure.Figure at 0x7f0d84162198>"
      ]
     },
     "metadata": {},
     "output_type": "display_data"
    }
   ],
   "source": [
    "# Show heatmap\n",
    "class MidpointNormalize(Normalize):\n",
    "\n",
    "    def __init__(self, vmin=None, vmax=None, midpoint=None, clip=False):\n",
    "        self.midpoint = midpoint\n",
    "        Normalize.__init__(self, vmin, vmax, clip)\n",
    "\n",
    "    def __call__(self, value, clip=None):\n",
    "        x, y = [self.vmin, self.midpoint, self.vmax], [0, 0.5, 1]\n",
    "        return np.ma.masked_array(np.interp(value, x, y))\n",
    "\n",
    "scores = grid.cv_results_['mean_test_score'].reshape(len(c_range),\n",
    "                                                     len(gamma_range))\n",
    "\n",
    "plt.figure(figsize=(8, 6))\n",
    "plt.subplots_adjust(left=.2, right=0.95, bottom=0.15, top=0.95)\n",
    "plt.imshow(scores, interpolation='nearest', cmap=plt.cm.hot,\n",
    "           norm=MidpointNormalize(vmin=0.9, midpoint=0.95))\n",
    "plt.xlabel('gamma')\n",
    "plt.ylabel('C')\n",
    "plt.colorbar()\n",
    "plt.xticks(np.arange(len(gamma_range)), gamma_range, rotation=45)\n",
    "plt.yticks(np.arange(len(c_range)), c_range)\n",
    "plt.title('Validation accuracy')\n",
    "plt.show()"
   ]
  },
  {
   "cell_type": "markdown",
   "metadata": {},
   "source": [
    "### TensorFlow"
   ]
  },
  {
   "cell_type": "code",
   "execution_count": null,
   "metadata": {},
   "outputs": [],
   "source": [
    "from keras.utils import to_categorical"
   ]
  },
  {
   "cell_type": "code",
   "execution_count": null,
   "metadata": {},
   "outputs": [],
   "source": [
    "y_train_categorical = to_categorical(y_train)\n",
    "y_test_categorical = to_categorical(y_test)"
   ]
  },
  {
   "cell_type": "code",
   "execution_count": null,
   "metadata": {},
   "outputs": [],
   "source": []
  }
 ],
 "metadata": {
  "kernelspec": {
   "display_name": "Python 3",
   "language": "python",
   "name": "python3"
  },
  "language_info": {
   "codemirror_mode": {
    "name": "ipython",
    "version": 3
   },
   "file_extension": ".py",
   "mimetype": "text/x-python",
   "name": "python",
   "nbconvert_exporter": "python",
   "pygments_lexer": "ipython3",
   "version": "3.6.4"
  }
 },
 "nbformat": 4,
 "nbformat_minor": 2
}
